{
  "nbformat": 4,
  "nbformat_minor": 0,
  "metadata": {
    "colab": {
      "name": "base.ipynb",
      "provenance": [],
      "collapsed_sections": []
    },
    "kernelspec": {
      "name": "python3",
      "display_name": "Python 3"
    },
    "accelerator": "GPU"
  },
  "cells": [
    {
      "cell_type": "markdown",
      "metadata": {
        "id": "dcEMIGnia5Lv",
        "colab_type": "text"
      },
      "source": [
        "https://colab.research.google.com/github/parrotProj/proj1/blob/master/base.ipynb"
      ]
    },
    {
      "cell_type": "code",
      "metadata": {
        "id": "DOzN02UHnisG",
        "colab_type": "code",
        "outputId": "7be1d53b-4af9-42af-e7d5-8099f159795d",
        "colab": {
          "base_uri": "https://localhost:8080/",
          "height": 34
        }
      },
      "source": [
        "!git clone https://github.com/parrotProj/proj1.git"
      ],
      "execution_count": 0,
      "outputs": [
        {
          "output_type": "stream",
          "text": [
            "fatal: destination path 'proj1' already exists and is not an empty directory.\n"
          ],
          "name": "stdout"
        }
      ]
    },
    {
      "cell_type": "code",
      "metadata": {
        "id": "BqqSuwXSrdKj",
        "colab_type": "code",
        "outputId": "67113cb5-e611-40de-99e3-7fba594f8f2a",
        "colab": {
          "base_uri": "https://localhost:8080/",
          "height": 34
        }
      },
      "source": [
        "ls"
      ],
      "execution_count": 0,
      "outputs": [
        {
          "output_type": "stream",
          "text": [
            "\u001b[0m\u001b[01;34mproj1\u001b[0m/  \u001b[01;34msample_data\u001b[0m/\n"
          ],
          "name": "stdout"
        }
      ]
    },
    {
      "cell_type": "code",
      "metadata": {
        "id": "3MDSAKcqnso_",
        "colab_type": "code",
        "outputId": "b1e21d7f-e525-4495-ef0c-31d56d976c7a",
        "colab": {
          "base_uri": "https://localhost:8080/",
          "height": 34
        }
      },
      "source": [
        "cd proj1"
      ],
      "execution_count": 0,
      "outputs": [
        {
          "output_type": "stream",
          "text": [
            "/content/proj1\n"
          ],
          "name": "stdout"
        }
      ]
    },
    {
      "cell_type": "code",
      "metadata": {
        "id": "CB8udPXOn3wq",
        "colab_type": "code",
        "outputId": "53b8960c-3c33-4492-8e11-842bb21629bc",
        "colab": {
          "base_uri": "https://localhost:8080/",
          "height": 80
        }
      },
      "source": [
        "import Request\n",
        "import re\n",
        "import keras\n",
        "import numpy as np\n",
        "from tensorflow.examples.tutorials.mnist import input_data\n",
        "import matplotlib.pyplot as plt\n",
        "%matplotlib inline\n",
        "\n",
        "from keras.models import Sequential\n",
        "from keras.layers.core import Dense, Activation, Flatten, Dropout\n",
        "from keras.layers.convolutional import Convolution2D, MaxPooling2D\n",
        "from keras.layers.normalization import BatchNormalization\n",
        "from keras.preprocessing.image import ImageDataGenerator\n",
        "\n",
        "import pandas as pd\n",
        "import os\n",
        "import random\n",
        "from tensorflow.keras.utils import to_categorical"
      ],
      "execution_count": 0,
      "outputs": [
        {
          "output_type": "stream",
          "text": [
            "Using TensorFlow backend.\n"
          ],
          "name": "stderr"
        },
        {
          "output_type": "display_data",
          "data": {
            "text/html": [
              "<p style=\"color: red;\">\n",
              "The default version of TensorFlow in Colab will soon switch to TensorFlow 2.x.<br>\n",
              "We recommend you <a href=\"https://www.tensorflow.org/guide/migrate\" target=\"_blank\">upgrade</a> now \n",
              "or ensure your notebook will continue to use TensorFlow 1.x via the <code>%tensorflow_version 1.x</code> magic:\n",
              "<a href=\"https://colab.research.google.com/notebooks/tensorflow_version.ipynb\" target=\"_blank\">more info</a>.</p>\n"
            ],
            "text/plain": [
              "<IPython.core.display.HTML object>"
            ]
          },
          "metadata": {
            "tags": []
          }
        }
      ]
    },
    {
      "cell_type": "code",
      "metadata": {
        "id": "-TlsKFNOn4g6",
        "colab_type": "code",
        "colab": {}
      },
      "source": [
        "X_train, Y_train = Request.get_data.train()"
      ],
      "execution_count": 0,
      "outputs": []
    },
    {
      "cell_type": "code",
      "metadata": {
        "id": "oX3LauJCn9jB",
        "colab_type": "code",
        "colab": {}
      },
      "source": [
        "X_test, X_id = Request.get_data.test()"
      ],
      "execution_count": 0,
      "outputs": []
    },
    {
      "cell_type": "code",
      "metadata": {
        "id": "RiM4wRpZn_lh",
        "colab_type": "code",
        "colab": {}
      },
      "source": [
        "np.random.seed(123577)"
      ],
      "execution_count": 0,
      "outputs": []
    },
    {
      "cell_type": "code",
      "metadata": {
        "id": "eKHxczbs4I9F",
        "colab_type": "code",
        "colab": {}
      },
      "source": [
        "shape_0=[]\n",
        "shape_1=[]\n",
        "\n",
        "for i in range(len(X_train)):\n",
        "    if X_train[i].shape[0] != 150:\n",
        "        shape_0.append(i)\n",
        "    if X_train[i].shape[1] != 150:\n",
        "        shape_1.append(i)"
      ],
      "execution_count": 0,
      "outputs": []
    },
    {
      "cell_type": "code",
      "metadata": {
        "id": "4sTDFk0L4cdN",
        "colab_type": "code",
        "colab": {}
      },
      "source": [
        "from skimage.transform import resize\n",
        "for i in shape_0:\n",
        "    X_train[i] = resize(X_train[i],(150,150))"
      ],
      "execution_count": 0,
      "outputs": []
    },
    {
      "cell_type": "code",
      "metadata": {
        "id": "y7Lk6nu245WG",
        "colab_type": "code",
        "colab": {}
      },
      "source": [
        "shape_0=[]\n",
        "shape_1=[]\n",
        "\n",
        "for i in range(len(X_test)):\n",
        "    if X_test[i].shape[0] != 150:\n",
        "        shape_0.append(i)\n",
        "    if X_test[i].shape[1] != 150:\n",
        "        shape_1.append(i)"
      ],
      "execution_count": 0,
      "outputs": []
    },
    {
      "cell_type": "code",
      "metadata": {
        "id": "5CykOTht48hc",
        "colab_type": "code",
        "colab": {}
      },
      "source": [
        "for i in shape_0:\n",
        "    X_test[i] = resize(X_test[i],(150,150))"
      ],
      "execution_count": 0,
      "outputs": []
    },
    {
      "cell_type": "code",
      "metadata": {
        "id": "nfWtTvH0oYoz",
        "colab_type": "code",
        "colab": {}
      },
      "source": [
        "def randomCrop(img, width, height):\n",
        "    assert img.shape[0] >= height\n",
        "    assert img.shape[1] >= width\n",
        "      \n",
        "    x = random.randint(0, img.shape[1] - width)\n",
        "    y = random.randint(0, img.shape[0] - height)\n",
        "    img = img[y:y+height, x:x+width]\n",
        "\n",
        "    return img"
      ],
      "execution_count": 0,
      "outputs": []
    },
    {
      "cell_type": "code",
      "metadata": {
        "id": "pbUmOg2C7jdO",
        "colab_type": "code",
        "colab": {}
      },
      "source": [
        "XX_train=[]\n",
        "for i in range(len(X_train)):\n",
        "    XX_train.append(randomCrop(X_train[i],150,150))    "
      ],
      "execution_count": 0,
      "outputs": []
    },
    {
      "cell_type": "code",
      "metadata": {
        "id": "gyQbYHwB-f4q",
        "colab_type": "code",
        "colab": {}
      },
      "source": [
        "XX_test=[]\n",
        "for i in range(len(X_test)):\n",
        "    XX_test.append(randomCrop(X_test[i],150,150))    "
      ],
      "execution_count": 0,
      "outputs": []
    },
    {
      "cell_type": "code",
      "metadata": {
        "id": "k2J3erCb7xQR",
        "colab_type": "code",
        "colab": {}
      },
      "source": [
        "XX_train = np.array(XX_train)"
      ],
      "execution_count": 0,
      "outputs": []
    },
    {
      "cell_type": "code",
      "metadata": {
        "id": "yGSK39me-xva",
        "colab_type": "code",
        "colab": {}
      },
      "source": [
        "XX_test = np.array(XX_test)"
      ],
      "execution_count": 0,
      "outputs": []
    },
    {
      "cell_type": "code",
      "metadata": {
        "id": "WKEdj_If7zv0",
        "colab_type": "code",
        "outputId": "6ba398fa-1250-48e5-c44a-53232cd5905a",
        "colab": {
          "base_uri": "https://localhost:8080/",
          "height": 34
        }
      },
      "source": [
        "XX_train.shape"
      ],
      "execution_count": 0,
      "outputs": [
        {
          "output_type": "execute_result",
          "data": {
            "text/plain": [
              "(14034, 150, 150, 3)"
            ]
          },
          "metadata": {
            "tags": []
          },
          "execution_count": 23
        }
      ]
    },
    {
      "cell_type": "code",
      "metadata": {
        "id": "vOEfvZEHp4tn",
        "colab_type": "code",
        "outputId": "7e43bb32-633e-401f-f722-4aebd07e7a61",
        "colab": {
          "base_uri": "https://localhost:8080/",
          "height": 1000
        }
      },
      "source": [
        "model_2 = Sequential()\n",
        "model_2.add(Convolution2D(64, (3, 3), padding='SAME', input_shape = (150, 150, 3),kernel_initializer='he_normal'))\n",
        "model_2.add(BatchNormalization())\n",
        "model_2.add(Activation('relu'))\n",
        "model_2.add(MaxPooling2D(2, 2))\n",
        "model_2.add(Convolution2D(64, (3, 3), padding='SAME',kernel_initializer='he_normal'))\n",
        "model_2.add(BatchNormalization())\n",
        "model_2.add(Activation('relu'))\n",
        "model_2.add(MaxPooling2D(2, 2))\n",
        "model_2.add(Convolution2D(128, (3, 3), padding='valid',strides=2,kernel_initializer='he_normal'))\n",
        "model_2.add(BatchNormalization())\n",
        "model_2.add(Activation('relu'))\n",
        "model_2.add(MaxPooling2D(2, 2))\n",
        "\n",
        "model_2.add(Flatten())\n",
        "model_2.add(Dense(1024))\n",
        "model_2.add(BatchNormalization())\n",
        "model_2.add(Activation('relu'))\n",
        "model_2.add(Dropout(0.5))\n",
        "model_2.add(Dense(6))\n",
        "model_2.add(Activation('softmax'))\n",
        "\n",
        "model_2.compile(loss = 'categorical_crossentropy', optimizer = 'adam', metrics=['accuracy'])\n",
        "\n",
        "model_2.summary()"
      ],
      "execution_count": 0,
      "outputs": [
        {
          "output_type": "stream",
          "text": [
            "WARNING:tensorflow:From /usr/local/lib/python3.6/dist-packages/keras/backend/tensorflow_backend.py:66: The name tf.get_default_graph is deprecated. Please use tf.compat.v1.get_default_graph instead.\n",
            "\n",
            "WARNING:tensorflow:From /usr/local/lib/python3.6/dist-packages/keras/backend/tensorflow_backend.py:541: The name tf.placeholder is deprecated. Please use tf.compat.v1.placeholder instead.\n",
            "\n",
            "WARNING:tensorflow:From /usr/local/lib/python3.6/dist-packages/keras/backend/tensorflow_backend.py:4479: The name tf.truncated_normal is deprecated. Please use tf.random.truncated_normal instead.\n",
            "\n",
            "WARNING:tensorflow:From /usr/local/lib/python3.6/dist-packages/keras/backend/tensorflow_backend.py:190: The name tf.get_default_session is deprecated. Please use tf.compat.v1.get_default_session instead.\n",
            "\n",
            "WARNING:tensorflow:From /usr/local/lib/python3.6/dist-packages/keras/backend/tensorflow_backend.py:197: The name tf.ConfigProto is deprecated. Please use tf.compat.v1.ConfigProto instead.\n",
            "\n",
            "WARNING:tensorflow:From /usr/local/lib/python3.6/dist-packages/keras/backend/tensorflow_backend.py:203: The name tf.Session is deprecated. Please use tf.compat.v1.Session instead.\n",
            "\n",
            "WARNING:tensorflow:From /usr/local/lib/python3.6/dist-packages/keras/backend/tensorflow_backend.py:207: The name tf.global_variables is deprecated. Please use tf.compat.v1.global_variables instead.\n",
            "\n",
            "WARNING:tensorflow:From /usr/local/lib/python3.6/dist-packages/keras/backend/tensorflow_backend.py:216: The name tf.is_variable_initialized is deprecated. Please use tf.compat.v1.is_variable_initialized instead.\n",
            "\n",
            "WARNING:tensorflow:From /usr/local/lib/python3.6/dist-packages/keras/backend/tensorflow_backend.py:223: The name tf.variables_initializer is deprecated. Please use tf.compat.v1.variables_initializer instead.\n",
            "\n",
            "WARNING:tensorflow:From /usr/local/lib/python3.6/dist-packages/keras/backend/tensorflow_backend.py:2041: The name tf.nn.fused_batch_norm is deprecated. Please use tf.compat.v1.nn.fused_batch_norm instead.\n",
            "\n",
            "WARNING:tensorflow:From /usr/local/lib/python3.6/dist-packages/keras/backend/tensorflow_backend.py:148: The name tf.placeholder_with_default is deprecated. Please use tf.compat.v1.placeholder_with_default instead.\n",
            "\n",
            "WARNING:tensorflow:From /usr/local/lib/python3.6/dist-packages/keras/backend/tensorflow_backend.py:4267: The name tf.nn.max_pool is deprecated. Please use tf.nn.max_pool2d instead.\n",
            "\n",
            "WARNING:tensorflow:From /usr/local/lib/python3.6/dist-packages/keras/backend/tensorflow_backend.py:4432: The name tf.random_uniform is deprecated. Please use tf.random.uniform instead.\n",
            "\n",
            "WARNING:tensorflow:From /usr/local/lib/python3.6/dist-packages/keras/backend/tensorflow_backend.py:3733: calling dropout (from tensorflow.python.ops.nn_ops) with keep_prob is deprecated and will be removed in a future version.\n",
            "Instructions for updating:\n",
            "Please use `rate` instead of `keep_prob`. Rate should be set to `rate = 1 - keep_prob`.\n",
            "WARNING:tensorflow:From /usr/local/lib/python3.6/dist-packages/keras/optimizers.py:793: The name tf.train.Optimizer is deprecated. Please use tf.compat.v1.train.Optimizer instead.\n",
            "\n",
            "WARNING:tensorflow:From /usr/local/lib/python3.6/dist-packages/keras/backend/tensorflow_backend.py:3576: The name tf.log is deprecated. Please use tf.math.log instead.\n",
            "\n",
            "Model: \"sequential_1\"\n",
            "_________________________________________________________________\n",
            "Layer (type)                 Output Shape              Param #   \n",
            "=================================================================\n",
            "conv2d_1 (Conv2D)            (None, 150, 150, 64)      1792      \n",
            "_________________________________________________________________\n",
            "batch_normalization_1 (Batch (None, 150, 150, 64)      256       \n",
            "_________________________________________________________________\n",
            "activation_1 (Activation)    (None, 150, 150, 64)      0         \n",
            "_________________________________________________________________\n",
            "max_pooling2d_1 (MaxPooling2 (None, 75, 75, 64)        0         \n",
            "_________________________________________________________________\n",
            "conv2d_2 (Conv2D)            (None, 75, 75, 64)        36928     \n",
            "_________________________________________________________________\n",
            "batch_normalization_2 (Batch (None, 75, 75, 64)        256       \n",
            "_________________________________________________________________\n",
            "activation_2 (Activation)    (None, 75, 75, 64)        0         \n",
            "_________________________________________________________________\n",
            "max_pooling2d_2 (MaxPooling2 (None, 37, 37, 64)        0         \n",
            "_________________________________________________________________\n",
            "conv2d_3 (Conv2D)            (None, 18, 18, 128)       73856     \n",
            "_________________________________________________________________\n",
            "batch_normalization_3 (Batch (None, 18, 18, 128)       512       \n",
            "_________________________________________________________________\n",
            "activation_3 (Activation)    (None, 18, 18, 128)       0         \n",
            "_________________________________________________________________\n",
            "max_pooling2d_3 (MaxPooling2 (None, 9, 9, 128)         0         \n",
            "_________________________________________________________________\n",
            "flatten_1 (Flatten)          (None, 10368)             0         \n",
            "_________________________________________________________________\n",
            "dense_1 (Dense)              (None, 1024)              10617856  \n",
            "_________________________________________________________________\n",
            "batch_normalization_4 (Batch (None, 1024)              4096      \n",
            "_________________________________________________________________\n",
            "activation_4 (Activation)    (None, 1024)              0         \n",
            "_________________________________________________________________\n",
            "dropout_1 (Dropout)          (None, 1024)              0         \n",
            "_________________________________________________________________\n",
            "dense_2 (Dense)              (None, 6)                 6150      \n",
            "_________________________________________________________________\n",
            "activation_5 (Activation)    (None, 6)                 0         \n",
            "=================================================================\n",
            "Total params: 10,741,702\n",
            "Trainable params: 10,739,142\n",
            "Non-trainable params: 2,560\n",
            "_________________________________________________________________\n"
          ],
          "name": "stdout"
        }
      ]
    },
    {
      "cell_type": "code",
      "metadata": {
        "id": "ATPC55YGp7V4",
        "colab_type": "code",
        "colab": {}
      },
      "source": [
        "\n",
        "Y_train = to_categorical(Y_train)"
      ],
      "execution_count": 0,
      "outputs": []
    },
    {
      "cell_type": "code",
      "metadata": {
        "id": "oifOHDxi7IfD",
        "colab_type": "code",
        "outputId": "37e68ddf-88ab-411e-cde6-415cde6f055c",
        "colab": {
          "base_uri": "https://localhost:8080/",
          "height": 34
        }
      },
      "source": [
        "X_train[0].shape"
      ],
      "execution_count": 0,
      "outputs": [
        {
          "output_type": "execute_result",
          "data": {
            "text/plain": [
              "(150, 150, 3)"
            ]
          },
          "metadata": {
            "tags": []
          },
          "execution_count": 19
        }
      ]
    },
    {
      "cell_type": "code",
      "metadata": {
        "id": "LWVRRJqrq0Sf",
        "colab_type": "code",
        "outputId": "e3bec0dd-b9ac-4606-a272-7b586cfc7595",
        "colab": {
          "base_uri": "https://localhost:8080/",
          "height": 136
        }
      },
      "source": [
        "Y_train"
      ],
      "execution_count": 0,
      "outputs": [
        {
          "output_type": "execute_result",
          "data": {
            "text/plain": [
              "array([[1., 0., 0., 0., 0., 0.],\n",
              "       [1., 0., 0., 0., 0., 0.],\n",
              "       [1., 0., 0., 0., 0., 0.],\n",
              "       ...,\n",
              "       [0., 0., 0., 0., 0., 1.],\n",
              "       [0., 0., 0., 0., 0., 1.],\n",
              "       [0., 0., 0., 0., 0., 1.]], dtype=float32)"
            ]
          },
          "metadata": {
            "tags": []
          },
          "execution_count": 17
        }
      ]
    },
    {
      "cell_type": "code",
      "metadata": {
        "id": "Wyyw_n05qCCM",
        "colab_type": "code",
        "outputId": "9605aa40-e737-4cfb-9069-6a55e6b0bbd1",
        "colab": {
          "base_uri": "https://localhost:8080/",
          "height": 683
        }
      },
      "source": [
        "hist = model_2.fit(x=XX_train,y=Y_train,validation_split=0.2,batch_size=56,epochs=15)"
      ],
      "execution_count": 0,
      "outputs": [
        {
          "output_type": "stream",
          "text": [
            "WARNING:tensorflow:From /usr/local/lib/python3.6/dist-packages/tensorflow_core/python/ops/math_grad.py:1424: where (from tensorflow.python.ops.array_ops) is deprecated and will be removed in a future version.\n",
            "Instructions for updating:\n",
            "Use tf.where in 2.0, which has the same broadcast rule as np.where\n",
            "WARNING:tensorflow:From /usr/local/lib/python3.6/dist-packages/keras/backend/tensorflow_backend.py:1033: The name tf.assign_add is deprecated. Please use tf.compat.v1.assign_add instead.\n",
            "\n",
            "WARNING:tensorflow:From /usr/local/lib/python3.6/dist-packages/keras/backend/tensorflow_backend.py:1020: The name tf.assign is deprecated. Please use tf.compat.v1.assign instead.\n",
            "\n",
            "Train on 11227 samples, validate on 2807 samples\n",
            "Epoch 1/15\n",
            "11227/11227 [==============================] - 49s 4ms/step - loss: 0.9129 - acc: 0.6866 - val_loss: 12.6341 - val_acc: 0.0413\n",
            "Epoch 2/15\n",
            "11227/11227 [==============================] - 43s 4ms/step - loss: 0.5555 - acc: 0.7933 - val_loss: 9.0107 - val_acc: 0.0420\n",
            "Epoch 3/15\n",
            "11227/11227 [==============================] - 44s 4ms/step - loss: 0.4324 - acc: 0.8415 - val_loss: 10.2097 - val_acc: 0.1592\n",
            "Epoch 4/15\n",
            "11227/11227 [==============================] - 45s 4ms/step - loss: 0.3479 - acc: 0.8725 - val_loss: 12.0159 - val_acc: 0.1635\n",
            "Epoch 5/15\n",
            "11227/11227 [==============================] - 44s 4ms/step - loss: 0.2696 - acc: 0.8991 - val_loss: 11.5780 - val_acc: 0.1674\n",
            "Epoch 6/15\n",
            "11227/11227 [==============================] - 44s 4ms/step - loss: 0.2075 - acc: 0.9255 - val_loss: 12.1120 - val_acc: 0.0791\n",
            "Epoch 7/15\n",
            "11227/11227 [==============================] - 44s 4ms/step - loss: 0.1784 - acc: 0.9390 - val_loss: 8.7184 - val_acc: 0.1739\n",
            "Epoch 8/15\n",
            "11227/11227 [==============================] - 45s 4ms/step - loss: 0.1314 - acc: 0.9548 - val_loss: 11.1791 - val_acc: 0.1653\n",
            "Epoch 9/15\n",
            "11227/11227 [==============================] - 44s 4ms/step - loss: 0.1158 - acc: 0.9615 - val_loss: 11.6488 - val_acc: 0.1731\n",
            "Epoch 10/15\n",
            "11227/11227 [==============================] - 44s 4ms/step - loss: 0.0961 - acc: 0.9686 - val_loss: 9.6268 - val_acc: 0.1607\n",
            "Epoch 11/15\n",
            "11227/11227 [==============================] - 44s 4ms/step - loss: 0.0720 - acc: 0.9779 - val_loss: 11.6997 - val_acc: 0.1592\n",
            "Epoch 12/15\n",
            "11227/11227 [==============================] - 45s 4ms/step - loss: 0.0835 - acc: 0.9708 - val_loss: 9.5924 - val_acc: 0.1550\n",
            "Epoch 13/15\n",
            "11227/11227 [==============================] - 44s 4ms/step - loss: 0.0684 - acc: 0.9791 - val_loss: 11.2771 - val_acc: 0.1300\n",
            "Epoch 14/15\n",
            "11227/11227 [==============================] - 44s 4ms/step - loss: 0.0730 - acc: 0.9779 - val_loss: 9.8363 - val_acc: 0.1682\n",
            "Epoch 15/15\n",
            "11227/11227 [==============================] - 44s 4ms/step - loss: 0.0894 - acc: 0.9696 - val_loss: 12.1626 - val_acc: 0.1653\n"
          ],
          "name": "stdout"
        }
      ]
    },
    {
      "cell_type": "code",
      "metadata": {
        "id": "YoZyhopv-pPg",
        "colab_type": "code",
        "outputId": "f0989fd1-307b-4670-d4b8-d1fbf0b9cbaa",
        "colab": {
          "base_uri": "https://localhost:8080/",
          "height": 34
        }
      },
      "source": [
        "XX_test.shape"
      ],
      "execution_count": 0,
      "outputs": [
        {
          "output_type": "execute_result",
          "data": {
            "text/plain": [
              "(3000, 150, 150, 3)"
            ]
          },
          "metadata": {
            "tags": []
          },
          "execution_count": 31
        }
      ]
    },
    {
      "cell_type": "code",
      "metadata": {
        "id": "oNqFwIUMqIVE",
        "colab_type": "code",
        "colab": {}
      },
      "source": [
        "result = model_2.predict(XX_test,batch_size=32)"
      ],
      "execution_count": 0,
      "outputs": []
    },
    {
      "cell_type": "code",
      "metadata": {
        "id": "vjh-HSFgs6-V",
        "colab_type": "code",
        "colab": {}
      },
      "source": [
        "result=np.argmax(result,axis=1).reshape(-1,1)"
      ],
      "execution_count": 0,
      "outputs": []
    },
    {
      "cell_type": "markdown",
      "metadata": {
        "id": "ybu-THN4tmn_",
        "colab_type": "text"
      },
      "source": [
        ""
      ]
    },
    {
      "cell_type": "markdown",
      "metadata": {
        "id": "R1XRUh9dtmao",
        "colab_type": "text"
      },
      "source": [
        ""
      ]
    },
    {
      "cell_type": "code",
      "metadata": {
        "id": "BIyDv2SotQP3",
        "colab_type": "code",
        "colab": {}
      },
      "source": [
        "X_id_pd=pd.DataFrame(X_id)"
      ],
      "execution_count": 0,
      "outputs": []
    },
    {
      "cell_type": "code",
      "metadata": {
        "id": "HrMpdtYUtYQZ",
        "colab_type": "code",
        "colab": {}
      },
      "source": [
        "X_id_pd = X_id_pd[0].apply(lambda x:x.split('.')[0])"
      ],
      "execution_count": 0,
      "outputs": []
    },
    {
      "cell_type": "code",
      "metadata": {
        "id": "bfoAAkznusfP",
        "colab_type": "code",
        "colab": {}
      },
      "source": [
        "output = pd.DataFrame(X_id_pd)"
      ],
      "execution_count": 0,
      "outputs": []
    },
    {
      "cell_type": "code",
      "metadata": {
        "id": "kw-pwAoos-oR",
        "colab_type": "code",
        "colab": {}
      },
      "source": [
        "output['pred_label'] = result"
      ],
      "execution_count": 0,
      "outputs": []
    },
    {
      "cell_type": "code",
      "metadata": {
        "id": "0AU5jTNGtsdr",
        "colab_type": "code",
        "colab": {}
      },
      "source": [
        "output.columns = ['id','pred_label']"
      ],
      "execution_count": 0,
      "outputs": []
    },
    {
      "cell_type": "code",
      "metadata": {
        "id": "WI_ebeO3tCKb",
        "colab_type": "code",
        "outputId": "daff4a47-237d-409b-d736-eefb16cb1fe8",
        "colab": {
          "base_uri": "https://localhost:8080/",
          "height": 450
        }
      },
      "source": [
        "output.set_index('id')"
      ],
      "execution_count": 0,
      "outputs": [
        {
          "output_type": "execute_result",
          "data": {
            "text/html": [
              "<div>\n",
              "<style scoped>\n",
              "    .dataframe tbody tr th:only-of-type {\n",
              "        vertical-align: middle;\n",
              "    }\n",
              "\n",
              "    .dataframe tbody tr th {\n",
              "        vertical-align: top;\n",
              "    }\n",
              "\n",
              "    .dataframe thead th {\n",
              "        text-align: right;\n",
              "    }\n",
              "</style>\n",
              "<table border=\"1\" class=\"dataframe\">\n",
              "  <thead>\n",
              "    <tr style=\"text-align: right;\">\n",
              "      <th></th>\n",
              "      <th>pred_label</th>\n",
              "    </tr>\n",
              "    <tr>\n",
              "      <th>id</th>\n",
              "      <th></th>\n",
              "    </tr>\n",
              "  </thead>\n",
              "  <tbody>\n",
              "    <tr>\n",
              "      <th>21514</th>\n",
              "      <td>1</td>\n",
              "    </tr>\n",
              "    <tr>\n",
              "      <th>23455</th>\n",
              "      <td>1</td>\n",
              "    </tr>\n",
              "    <tr>\n",
              "      <th>22518</th>\n",
              "      <td>2</td>\n",
              "    </tr>\n",
              "    <tr>\n",
              "      <th>21621</th>\n",
              "      <td>3</td>\n",
              "    </tr>\n",
              "    <tr>\n",
              "      <th>23385</th>\n",
              "      <td>1</td>\n",
              "    </tr>\n",
              "    <tr>\n",
              "      <th>...</th>\n",
              "      <td>...</td>\n",
              "    </tr>\n",
              "    <tr>\n",
              "      <th>21406</th>\n",
              "      <td>4</td>\n",
              "    </tr>\n",
              "    <tr>\n",
              "      <th>24111</th>\n",
              "      <td>4</td>\n",
              "    </tr>\n",
              "    <tr>\n",
              "      <th>23375</th>\n",
              "      <td>1</td>\n",
              "    </tr>\n",
              "    <tr>\n",
              "      <th>20252</th>\n",
              "      <td>3</td>\n",
              "    </tr>\n",
              "    <tr>\n",
              "      <th>23463</th>\n",
              "      <td>3</td>\n",
              "    </tr>\n",
              "  </tbody>\n",
              "</table>\n",
              "<p>3000 rows × 1 columns</p>\n",
              "</div>"
            ],
            "text/plain": [
              "       pred_label\n",
              "id               \n",
              "21514           1\n",
              "23455           1\n",
              "22518           2\n",
              "21621           3\n",
              "23385           1\n",
              "...           ...\n",
              "21406           4\n",
              "24111           4\n",
              "23375           1\n",
              "20252           3\n",
              "23463           3\n",
              "\n",
              "[3000 rows x 1 columns]"
            ]
          },
          "metadata": {
            "tags": []
          },
          "execution_count": 39
        }
      ]
    },
    {
      "cell_type": "code",
      "metadata": {
        "id": "FZ0cL7Aiuh4U",
        "colab_type": "code",
        "colab": {}
      },
      "source": [
        "output.to_csv('output.csv')"
      ],
      "execution_count": 0,
      "outputs": []
    },
    {
      "cell_type": "code",
      "metadata": {
        "id": "F_taTNnuwhe-",
        "colab_type": "code",
        "colab": {}
      },
      "source": [
        "from google.colab import files\n",
        "files.download(\"output.csv\")"
      ],
      "execution_count": 0,
      "outputs": []
    },
    {
      "cell_type": "code",
      "metadata": {
        "id": "SnIynl4ZzRFv",
        "colab_type": "code",
        "colab": {}
      },
      "source": [
        ""
      ],
      "execution_count": 0,
      "outputs": []
    }
  ]
}